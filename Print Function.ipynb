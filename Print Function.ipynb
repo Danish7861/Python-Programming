{
 "cells": [
  {
   "cell_type": "markdown",
   "id": "43f3e593",
   "metadata": {},
   "source": [
    "# PYTHON PRINT FUNCTION "
   ]
  },
  {
   "cell_type": "code",
   "execution_count": 1,
   "id": "e217a218",
   "metadata": {},
   "outputs": [],
   "source": [
    "# DISCUSS  integer , float , boolean , and string\n",
    "\n",
    "# what is integer?\n",
    "# 0,1,2,36\n",
    "\n",
    "# what is floating number \n",
    "# 0.1 , 22.5\n",
    "\n",
    "# what is string?\n",
    "# \"abc\", \"danish\" , \"123\"\n",
    "\n",
    "# what is boolean\n",
    "# True = 1 and False = 0"
   ]
  },
  {
   "cell_type": "code",
   "execution_count": 2,
   "id": "0b8a9251",
   "metadata": {},
   "outputs": [
    {
     "data": {
      "text/plain": [
       "int"
      ]
     },
     "execution_count": 2,
     "metadata": {},
     "output_type": "execute_result"
    }
   ],
   "source": [
    "type(0)"
   ]
  },
  {
   "cell_type": "code",
   "execution_count": 3,
   "id": "6f96f9b5",
   "metadata": {},
   "outputs": [
    {
     "data": {
      "text/plain": [
       "str"
      ]
     },
     "execution_count": 3,
     "metadata": {},
     "output_type": "execute_result"
    }
   ],
   "source": [
    "type(\"0\")"
   ]
  },
  {
   "cell_type": "code",
   "execution_count": 4,
   "id": "49092af8",
   "metadata": {},
   "outputs": [
    {
     "data": {
      "text/plain": [
       "float"
      ]
     },
     "execution_count": 4,
     "metadata": {},
     "output_type": "execute_result"
    }
   ],
   "source": [
    "type(22.5)"
   ]
  },
  {
   "cell_type": "code",
   "execution_count": 5,
   "id": "e99f977a",
   "metadata": {},
   "outputs": [
    {
     "name": "stdout",
     "output_type": "stream",
     "text": [
      "22\n"
     ]
    }
   ],
   "source": [
    "print(22)"
   ]
  },
  {
   "cell_type": "code",
   "execution_count": 6,
   "id": "8e87cae4",
   "metadata": {},
   "outputs": [
    {
     "name": "stdout",
     "output_type": "stream",
     "text": [
      "abc\n"
     ]
    }
   ],
   "source": [
    "print('abc')"
   ]
  },
  {
   "cell_type": "code",
   "execution_count": 7,
   "id": "afca155a",
   "metadata": {},
   "outputs": [
    {
     "name": "stdout",
     "output_type": "stream",
     "text": [
      "abc 123 22.5\n"
     ]
    }
   ],
   "source": [
    "print(\"abc\", 123, 22.5)"
   ]
  },
  {
   "cell_type": "markdown",
   "id": "e0774b1b",
   "metadata": {},
   "source": [
    "### Seperator, end in print function"
   ]
  },
  {
   "cell_type": "code",
   "execution_count": 8,
   "id": "2ed84261",
   "metadata": {},
   "outputs": [
    {
     "name": "stdout",
     "output_type": "stream",
     "text": [
      "Help on built-in function print in module builtins:\n",
      "\n",
      "print(...)\n",
      "    print(value, ..., sep=' ', end='\\n', file=sys.stdout, flush=False)\n",
      "    \n",
      "    Prints the values to a stream, or to sys.stdout by default.\n",
      "    Optional keyword arguments:\n",
      "    file:  a file-like object (stream); defaults to the current sys.stdout.\n",
      "    sep:   string inserted between values, default a space.\n",
      "    end:   string appended after the last value, default a newline.\n",
      "    flush: whether to forcibly flush the stream.\n",
      "\n"
     ]
    }
   ],
   "source": [
    "help(print)"
   ]
  },
  {
   "cell_type": "code",
   "execution_count": 9,
   "id": "8fb86f1e",
   "metadata": {},
   "outputs": [
    {
     "name": "stdout",
     "output_type": "stream",
     "text": [
      "My Name is Danish\tMy fav dish is biryani\n"
     ]
    }
   ],
   "source": [
    "print(\"My Name is Danish\", end='\\t')  # EASCAPE CHARACTERS \\n is for new line , \\t mean tab 8spaces\n",
    "print(\"My fav dish is biryani\")"
   ]
  },
  {
   "cell_type": "code",
   "execution_count": 10,
   "id": "67dbcf66",
   "metadata": {},
   "outputs": [
    {
     "name": "stdout",
     "output_type": "stream",
     "text": [
      "My Name is Danish  .  My fav dish is Biryani\n"
     ]
    }
   ],
   "source": [
    "print(\"My Name is Danish  .  My fav dish is Biryani\")"
   ]
  },
  {
   "cell_type": "code",
   "execution_count": 11,
   "id": "570e590a",
   "metadata": {},
   "outputs": [
    {
     "name": "stdout",
     "output_type": "stream",
     "text": [
      "Dishes:\n",
      "\tBiryani\n",
      "\tBurger\n"
     ]
    }
   ],
   "source": [
    "print(\"Dishes:\\n\\tBiryani\\n\\tBurger\")"
   ]
  },
  {
   "cell_type": "code",
   "execution_count": 12,
   "id": "e2f3e6c1",
   "metadata": {},
   "outputs": [
    {
     "name": "stdout",
     "output_type": "stream",
     "text": [
      "The Price of Biryani is 2.5\n"
     ]
    }
   ],
   "source": [
    "a = 2.5 # float\n",
    "b = \"Biryani\" # string \n",
    "print(f\"The Price of {b} is {a}\")"
   ]
  },
  {
   "cell_type": "code",
   "execution_count": 13,
   "id": "1500af73",
   "metadata": {},
   "outputs": [
    {
     "name": "stdout",
     "output_type": "stream",
     "text": [
      "The Price of Biryani is 2.5\n"
     ]
    }
   ],
   "source": [
    "a = 2.5\n",
    "b = \"Biryani\"\n",
    "print(\"The Price of {1} is {0}\".format(a,b))"
   ]
  },
  {
   "cell_type": "code",
   "execution_count": 14,
   "id": "b1fdcb82",
   "metadata": {},
   "outputs": [],
   "source": [
    "# %d is for integer\n",
    "# %s is for string"
   ]
  },
  {
   "cell_type": "code",
   "execution_count": 15,
   "id": "1c9715e7",
   "metadata": {},
   "outputs": [
    {
     "name": "stdout",
     "output_type": "stream",
     "text": [
      "My fav food is Biryani.\n"
     ]
    }
   ],
   "source": [
    "b = \"Biryani\"\n",
    "print(\"My fav food is %s.\"%(b))"
   ]
  },
  {
   "cell_type": "code",
   "execution_count": 16,
   "id": "c4404dd8",
   "metadata": {},
   "outputs": [
    {
     "name": "stdout",
     "output_type": "stream",
     "text": [
      "The Price of biryani is  2\n"
     ]
    }
   ],
   "source": [
    "a = 2\n",
    "print(\"The Price of biryani is  %d\"%(a))"
   ]
  },
  {
   "cell_type": "code",
   "execution_count": 17,
   "id": "e58f484c",
   "metadata": {},
   "outputs": [
    {
     "name": "stdout",
     "output_type": "stream",
     "text": [
      "The Price of Biryani is 2\n"
     ]
    }
   ],
   "source": [
    "a = 2\n",
    "b = \"Biryani\"\n",
    "print(\"The Price of %s is %d\"%(b,a))"
   ]
  }
 ],
 "metadata": {
  "kernelspec": {
   "display_name": "Python 3",
   "language": "python",
   "name": "python3"
  },
  "language_info": {
   "codemirror_mode": {
    "name": "ipython",
    "version": 3
   },
   "file_extension": ".py",
   "mimetype": "text/x-python",
   "name": "python",
   "nbconvert_exporter": "python",
   "pygments_lexer": "ipython3",
   "version": "3.8.8"
  }
 },
 "nbformat": 4,
 "nbformat_minor": 5
}
